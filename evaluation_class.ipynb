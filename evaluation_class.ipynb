{
 "cells": [
  {
   "cell_type": "code",
   "execution_count": 1,
   "metadata": {},
   "outputs": [],
   "source": [
    "import torch\n",
    "import torch.nn as nn\n",
    "import torch.nn.functional as F\n",
    "from torch.autograd import Variable\n",
    "from torch import linalg as LA\n",
    "import torch.optim as optim\n",
    "from torchvision import datasets, transforms\n",
    "from types import SimpleNamespace\n",
    "import matplotlib.pyplot as plt\n",
    "import numpy as np\n",
    "from src import NeuralNet, SmoothSailing, kappa"
   ]
  },
  {
   "cell_type": "code",
   "execution_count": 2,
   "metadata": {},
   "outputs": [],
   "source": [
    "args = SimpleNamespace(batch_size=32, test_batch_size=1000, epochs=10,\n",
    "                       lr=0.0001, momentum=0.5, seed=1, log_interval=100, noise_level=0.1, beta=0.01)\n",
    "torch.manual_seed(args.seed)\n",
    "use_cuda = torch.cuda.is_available()\n",
    "device = torch.device('cuda' if use_cuda else 'cpu')"
   ]
  },
  {
   "cell_type": "code",
   "execution_count": 3,
   "metadata": {},
   "outputs": [],
   "source": [
    "kwargs = {'num_workers': 1, 'pin_memory': True} if use_cuda else {}\n",
    "\n",
    "train_loader = torch.utils.data.DataLoader(\n",
    "    datasets.MNIST('../data', train=True, download=True,\n",
    "                     transform=transforms.Compose([\n",
    "                            transforms.ToTensor(),\n",
    "                            transforms.Normalize((0.1307,), (0.3081,))\n",
    "                        ])),\n",
    "    batch_size=args.batch_size, shuffle=True, **kwargs)\n",
    "    \n",
    "test_loader = torch.utils.data.DataLoader(\n",
    "    datasets.MNIST('../data', train=False, transform=transforms.Compose([\n",
    "                        transforms.ToTensor(),\n",
    "                        transforms.Normalize((0.1307,), (0.3081,))\n",
    "                    ])),\n",
    "    batch_size=args.test_batch_size, shuffle=True, **kwargs)"
   ]
  },
  {
   "cell_type": "code",
   "execution_count": 4,
   "metadata": {},
   "outputs": [],
   "source": [
    "model0 = NeuralNet(size=2048).to(device)\n",
    "model0001 = NeuralNet(size=2048).to(device)\n",
    "model001 = NeuralNet(size=2048).to(device)\n",
    "model01 = NeuralNet(size=2048).to(device)\n",
    "model1 = NeuralNet(size=2048).to(device)"
   ]
  },
  {
   "cell_type": "code",
   "execution_count": 5,
   "metadata": {},
   "outputs": [],
   "source": [
    "# load models\n",
    "m0 = torch.load('model_0_new.pt', map_location=torch.device('cpu'))\n",
    "m0001 = torch.load('model_0001_new.pt', map_location=torch.device('cpu'))\n",
    "m001 = torch.load('model_001_new.pt', map_location=torch.device('cpu'))\n",
    "m01 = torch.load('model_01_new.pt', map_location=torch.device('cpu'))\n",
    "m1 = torch.load('model_1_new.pt', map_location=torch.device('cpu'))"
   ]
  },
  {
   "cell_type": "code",
   "execution_count": 6,
   "metadata": {},
   "outputs": [
    {
     "data": {
      "text/plain": [
       "<All keys matched successfully>"
      ]
     },
     "execution_count": 6,
     "metadata": {},
     "output_type": "execute_result"
    }
   ],
   "source": [
    "# load state_dicts into models\n",
    "model0.load_state_dict(m0)\n",
    "model0001.load_state_dict(m0001)\n",
    "model001.load_state_dict(m001)\n",
    "model01.load_state_dict(m01)\n",
    "model1.load_state_dict(m1)"
   ]
  },
  {
   "cell_type": "code",
   "execution_count": 10,
   "metadata": {},
   "outputs": [
    {
     "name": "stdout",
     "output_type": "stream",
     "text": [
      "\tbeta 0: 98.37%\n",
      "\tbeta 0.001: 98.25%\n",
      "\tbeta 0.01: 97.97%\n",
      "\tbeta 0.1: 97.79%\n",
      "\tbeta 1: 95.53%\n"
     ]
    }
   ],
   "source": [
    "model0.eval()\n",
    "model0001.eval()\n",
    "model001.eval()\n",
    "model01.eval()\n",
    "model1.eval()\n",
    "\n",
    "acc0 = 0\n",
    "acc0001 = 0\n",
    "acc001 = 0\n",
    "acc01 = 0\n",
    "acc1 = 0\n",
    "\n",
    "num_repeats = 100\n",
    "\n",
    "for i in range(num_repeats):\n",
    "    with torch.no_grad():\n",
    "        for data, target in test_loader:\n",
    "            # add noise\n",
    "            #data += 1.5 * torch.randn_like(data)\n",
    "            data = Variable(data.view(-1, 28*28))\n",
    "            data, target = data.to(device), target.to(device)\n",
    "\n",
    "            output0 = model0(data)\n",
    "            output0001 = model0001(data)\n",
    "            output001 = model001(data)\n",
    "            output01 = model01(data)\n",
    "            output1 = model1(data)\n",
    "\n",
    "            pred0 = output0.max(1, keepdim=True)[1]\n",
    "            accur0 = pred0.eq(target.view_as(pred0)).sum().item()\n",
    "            pred0001 = output0001.max(1, keepdim=True)[1]\n",
    "            accur0001 = pred0001.eq(target.view_as(pred0001)).sum().item()\n",
    "            pred001 = output001.max(1, keepdim=True)[1]\n",
    "            accur001 = pred001.eq(target.view_as(pred001)).sum().item()\n",
    "            pred01 = output01.max(1, keepdim=True)[1]\n",
    "            accur01 = pred01.eq(target.view_as(pred01)).sum().item()\n",
    "            pred1 = output1.max(1, keepdim=True)[1]\n",
    "            accur1 = pred1.eq(target.view_as(pred1)).sum().item()\n",
    "\n",
    "        acc0 += accur0/args.test_batch_size*100\n",
    "        acc0001 += accur0001/args.test_batch_size*100\n",
    "        acc001 += accur001/args.test_batch_size*100\n",
    "        acc01 += accur01/args.test_batch_size*100\n",
    "        acc1 += accur1/args.test_batch_size*100\n",
    "\n",
    "print(f\"\\tbeta 0: {acc0/num_repeats:.2f}%\")\n",
    "print(f\"\\tbeta 0.001: {acc0001/num_repeats:.2f}%\")\n",
    "print(f\"\\tbeta 0.01: {acc001/num_repeats:.2f}%\")\n",
    "print(f\"\\tbeta 0.1: {acc01/num_repeats:.2f}%\")\n",
    "print(f\"\\tbeta 1: {acc1/num_repeats:.2f}%\")\n",
    "\n",
    "# save the results\n",
    "with open('cond_class_clean_2048.txt', 'w') as f:\n",
    "    f.write(f\"\\tbeta 0: {acc0/num_repeats:.2f}%\\n\")\n",
    "    f.write(f\"\\tbeta 0.001: {acc0001/num_repeats:.2f}%\\n\")\n",
    "    f.write(f\"\\tbeta 0.01: {acc001/num_repeats:.2f}%\\n\")\n",
    "    f.write(f\"\\tbeta 0.1: {acc01/num_repeats:.2f}%\\n\")\n",
    "    f.write(f\"\\tbeta 1: {acc1/num_repeats:.2f}%\\n\")\n"
   ]
  },
  {
   "cell_type": "code",
   "execution_count": null,
   "metadata": {},
   "outputs": [],
   "source": [
    "# load the pkl files\n",
    "import pickle\n",
    "\n",
    "with open('results_new.pkl', 'rb') as f:\n",
    "    results = pickle.load(f)"
   ]
  },
  {
   "cell_type": "code",
   "execution_count": null,
   "metadata": {},
   "outputs": [],
   "source": []
  }
 ],
 "metadata": {
  "kernelspec": {
   "display_name": "stability",
   "language": "python",
   "name": "python3"
  },
  "language_info": {
   "codemirror_mode": {
    "name": "ipython",
    "version": 3
   },
   "file_extension": ".py",
   "mimetype": "text/x-python",
   "name": "python",
   "nbconvert_exporter": "python",
   "pygments_lexer": "ipython3",
   "version": "3.12.3"
  },
  "orig_nbformat": 4,
  "vscode": {
   "interpreter": {
    "hash": "cc65afc70096efb496869c64bd017358404fbe61e744c54c4a45505688b36bf9"
   }
  }
 },
 "nbformat": 4,
 "nbformat_minor": 2
}
