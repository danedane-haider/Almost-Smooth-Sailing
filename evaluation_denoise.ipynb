{
 "cells": [
  {
   "cell_type": "code",
   "execution_count": 14,
   "metadata": {},
   "outputs": [],
   "source": [
    "import torch\n",
    "import torch.nn as nn\n",
    "import torch.nn.functional as F\n",
    "from torch.autograd import Variable\n",
    "from torch import linalg as LA\n",
    "import torch.optim as optim\n",
    "from torchvision import datasets, transforms\n",
    "from types import SimpleNamespace\n",
    "import matplotlib.pyplot as plt\n",
    "import numpy as np\n",
    "from src import AutoEncoder, SmoothSailing, kappa"
   ]
  },
  {
   "cell_type": "code",
   "execution_count": 7,
   "metadata": {},
   "outputs": [],
   "source": [
    "args = SimpleNamespace(batch_size=32, test_batch_size=1000, epochs=10,\n",
    "                       lr=0.0001, momentum=0.5, seed=1, log_interval=100, \n",
    "                            beta_end=0.1,\n",
    "                            beta_mid=0.005,\n",
    "                            end_layer_size=256,\n",
    "                            mid_layer_size=32,\n",
    "                            noise_level=0.5)\n",
    "torch.manual_seed(args.seed)\n",
    "use_cuda = torch.cuda.is_available()\n",
    "device = torch.device('cuda' if use_cuda else 'cpu')"
   ]
  },
  {
   "cell_type": "code",
   "execution_count": 8,
   "metadata": {},
   "outputs": [],
   "source": [
    "kwargs = {'num_workers': 1, 'pin_memory': True} if use_cuda else {}\n",
    "\n",
    "train_loader = torch.utils.data.DataLoader(\n",
    "    datasets.MNIST('../data', train=True, download=True,\n",
    "                     transform=transforms.Compose([\n",
    "                            transforms.ToTensor(),\n",
    "                            transforms.Normalize((0.1307,), (0.3081,))\n",
    "                        ])),\n",
    "    batch_size=args.batch_size, shuffle=True, **kwargs)\n",
    "    \n",
    "test_loader = torch.utils.data.DataLoader(\n",
    "    datasets.MNIST('../data', train=False, transform=transforms.Compose([\n",
    "                        transforms.ToTensor(),\n",
    "                        transforms.Normalize((0.1307,), (0.3081,))\n",
    "                    ])),\n",
    "    batch_size=args.test_batch_size, shuffle=True, **kwargs)"
   ]
  },
  {
   "cell_type": "code",
   "execution_count": 24,
   "metadata": {},
   "outputs": [],
   "source": [
    "model = AutoEncoder(end_layer_size=args.end_layer_size, mid_layer_size=args.mid_layer_size).to(device)\n",
    "model_reg = AutoEncoder(end_layer_size=args.end_layer_size, mid_layer_size=args.mid_layer_size).to(device)"
   ]
  },
  {
   "cell_type": "code",
   "execution_count": 25,
   "metadata": {},
   "outputs": [],
   "source": [
    "m = torch.load('denoise_model.pt', map_location=torch.device('cpu'))\n",
    "m_reg = torch.load('denoise_model_reg.pt', map_location=torch.device('cpu'))"
   ]
  },
  {
   "cell_type": "code",
   "execution_count": 27,
   "metadata": {},
   "outputs": [
    {
     "data": {
      "text/plain": [
       "<All keys matched successfully>"
      ]
     },
     "execution_count": 27,
     "metadata": {},
     "output_type": "execute_result"
    }
   ],
   "source": [
    "model.load_state_dict(m)\n",
    "model_reg.load_state_dict(m_reg)"
   ]
  },
  {
   "cell_type": "code",
   "execution_count": 39,
   "metadata": {},
   "outputs": [
    {
     "name": "stdout",
     "output_type": "stream",
     "text": [
      "\tbeta 0: 8.60%\n",
      "\tbeta 0.001: 7.76%\n",
      "\tbeta 0.01: 7.83%\n",
      "\tbeta 0.1: 8.66%\n",
      "\tbeta 1: 8.94%\n",
      "\tbeta 0: 16.96%\n",
      "\tbeta 0.001: 15.60%\n",
      "\tbeta 0.01: 15.65%\n",
      "\tbeta 0.1: 17.41%\n",
      "\tbeta 1: 17.98%\n",
      "\tbeta 0: 25.23%\n",
      "\tbeta 0.001: 23.29%\n",
      "\tbeta 0.01: 23.34%\n",
      "\tbeta 0.1: 25.90%\n",
      "\tbeta 1: 27.00%\n",
      "\tbeta 0: 33.80%\n",
      "\tbeta 0.001: 31.36%\n",
      "\tbeta 0.01: 31.46%\n",
      "\tbeta 0.1: 34.60%\n",
      "\tbeta 1: 36.06%\n",
      "\tbeta 0: 42.26%\n",
      "\tbeta 0.001: 39.08%\n",
      "\tbeta 0.01: 39.24%\n",
      "\tbeta 0.1: 43.32%\n",
      "\tbeta 1: 44.93%\n",
      "\tbeta 0: 50.69%\n",
      "\tbeta 0.001: 46.87%\n",
      "\tbeta 0.01: 47.16%\n",
      "\tbeta 0.1: 51.91%\n",
      "\tbeta 1: 53.96%\n",
      "\tbeta 0: 59.28%\n",
      "\tbeta 0.001: 54.93%\n",
      "\tbeta 0.01: 55.27%\n",
      "\tbeta 0.1: 60.66%\n",
      "\tbeta 1: 62.93%\n",
      "\tbeta 0: 67.62%\n",
      "\tbeta 0.001: 62.78%\n",
      "\tbeta 0.01: 63.20%\n",
      "\tbeta 0.1: 69.28%\n",
      "\tbeta 1: 71.73%\n",
      "\tbeta 0: 75.82%\n",
      "\tbeta 0.001: 70.45%\n",
      "\tbeta 0.01: 71.06%\n",
      "\tbeta 0.1: 77.74%\n",
      "\tbeta 1: 80.51%\n",
      "\tbeta 0: 84.24%\n",
      "\tbeta 0.001: 77.94%\n",
      "\tbeta 0.01: 78.83%\n",
      "\tbeta 0.1: 86.29%\n",
      "\tbeta 1: 89.35%\n"
     ]
    }
   ],
   "source": [
    "# plot denoised images\n",
    "plt.figure(figsize=(60,10))\n",
    "\n",
    "for i in range(5):\n",
    "    data, train_labels = next(iter(train_loader))\n",
    "    noisy_data = data[i][0] + args.noise_level * torch.randn(data[i][0].shape)\n",
    "    output = model(noisy_data.view(-1, 28*28)).view(28, 28).cpu().detach().numpy()\n",
    "    output_reg = model_reg(noisy_data.view(-1, 28*28)).view(28, 28).cpu().detach().numpy()\n",
    "\n",
    "    plt.subplot(3, 18, i+1)\n",
    "    plt.imshow(noisy_data.cpu().numpy(), cmap='gray')\n",
    "    plt.axis('off')\n",
    "\n",
    "    plt.subplot(3, 18, i+19)\n",
    "    plt.imshow(output, cmap='gray')\n",
    "    plt.axis('off')\n",
    "\n",
    "    plt.subplot(3, 18, i+37)\n",
    "    plt.imshow(output_reg, cmap='gray')\n",
    "    plt.axis('off')\n",
    "\n",
    "plt.subplots_adjust(wspace=0, hspace=0)\n",
    "plt.tight_layout()\n",
    "#plt.savefig('MNIST_denoising_softy.png')\n",
    "plt.show()\n"
   ]
  },
  {
   "cell_type": "code",
   "execution_count": null,
   "metadata": {},
   "outputs": [],
   "source": []
  }
 ],
 "metadata": {
  "kernelspec": {
   "display_name": "stability",
   "language": "python",
   "name": "python3"
  },
  "language_info": {
   "codemirror_mode": {
    "name": "ipython",
    "version": 3
   },
   "file_extension": ".py",
   "mimetype": "text/x-python",
   "name": "python",
   "nbconvert_exporter": "python",
   "pygments_lexer": "ipython3",
   "version": "3.12.3 | packaged by conda-forge | (main, Apr 15 2024, 18:50:49) [Clang 16.0.6 ]"
  },
  "orig_nbformat": 4,
  "vscode": {
   "interpreter": {
    "hash": "cc65afc70096efb496869c64bd017358404fbe61e744c54c4a45505688b36bf9"
   }
  }
 },
 "nbformat": 4,
 "nbformat_minor": 2
}
